{
 "cells": [
  {
   "cell_type": "code",
   "execution_count": 22,
   "id": "b87d9e4f-870c-494d-aa74-46e214512719",
   "metadata": {},
   "outputs": [],
   "source": [
    "import pandas as pd\n",
    "import numpy as np\n",
    "import seaborn as sns\n",
    "import matplotlib.pyplot as plt\n",
    "from sklearn.linear_model import LinearRegression\n",
    "from sklearn.preprocessing import LabelEncoder"
   ]
  },
  {
   "cell_type": "code",
   "execution_count": 23,
   "id": "1488845c-423d-45ed-99ec-6aa67aa3976a",
   "metadata": {},
   "outputs": [],
   "source": [
    "df = pd.read_csv(\"train_A_derma.csv\")"
   ]
  },
  {
   "cell_type": "code",
   "execution_count": 24,
   "id": "3b1a37ed-4ce4-4300-ae25-e77553f3d45b",
   "metadata": {},
   "outputs": [
    {
     "data": {
      "text/html": [
       "<div>\n",
       "<style scoped>\n",
       "    .dataframe tbody tr th:only-of-type {\n",
       "        vertical-align: middle;\n",
       "    }\n",
       "\n",
       "    .dataframe tbody tr th {\n",
       "        vertical-align: top;\n",
       "    }\n",
       "\n",
       "    .dataframe thead th {\n",
       "        text-align: right;\n",
       "    }\n",
       "</style>\n",
       "<table border=\"1\" class=\"dataframe\">\n",
       "  <thead>\n",
       "    <tr style=\"text-align: right;\">\n",
       "      <th></th>\n",
       "      <th>Id</th>\n",
       "      <th>Lession</th>\n",
       "      <th>Genetic Propensity</th>\n",
       "      <th>Skin X test</th>\n",
       "      <th>Skin color</th>\n",
       "      <th>Small size</th>\n",
       "      <th>Mid size</th>\n",
       "      <th>Large size</th>\n",
       "      <th>Mid</th>\n",
       "      <th>Small</th>\n",
       "      <th>Large</th>\n",
       "      <th>Doughnuts consumption</th>\n",
       "      <th>Fake/Real</th>\n",
       "    </tr>\n",
       "  </thead>\n",
       "  <tbody>\n",
       "    <tr>\n",
       "      <th>0</th>\n",
       "      <td>0</td>\n",
       "      <td>1.0</td>\n",
       "      <td>-1.27713</td>\n",
       "      <td>4.0</td>\n",
       "      <td>NaN</td>\n",
       "      <td>0.0</td>\n",
       "      <td>NaN</td>\n",
       "      <td>0.0</td>\n",
       "      <td>1.0</td>\n",
       "      <td>NaN</td>\n",
       "      <td>NaN</td>\n",
       "      <td>1.234125</td>\n",
       "      <td>real</td>\n",
       "    </tr>\n",
       "    <tr>\n",
       "      <th>1</th>\n",
       "      <td>1</td>\n",
       "      <td>NaN</td>\n",
       "      <td>-1.84207</td>\n",
       "      <td>3.0</td>\n",
       "      <td>0.0</td>\n",
       "      <td>1.0</td>\n",
       "      <td>0.0</td>\n",
       "      <td>0.0</td>\n",
       "      <td>0.0</td>\n",
       "      <td>1.0</td>\n",
       "      <td>NaN</td>\n",
       "      <td>1.216756</td>\n",
       "      <td>real</td>\n",
       "    </tr>\n",
       "    <tr>\n",
       "      <th>2</th>\n",
       "      <td>2</td>\n",
       "      <td>NaN</td>\n",
       "      <td>-1.82290</td>\n",
       "      <td>3.0</td>\n",
       "      <td>NaN</td>\n",
       "      <td>0.0</td>\n",
       "      <td>NaN</td>\n",
       "      <td>NaN</td>\n",
       "      <td>1.0</td>\n",
       "      <td>0.0</td>\n",
       "      <td>NaN</td>\n",
       "      <td>1.264342</td>\n",
       "      <td>real</td>\n",
       "    </tr>\n",
       "    <tr>\n",
       "      <th>3</th>\n",
       "      <td>3</td>\n",
       "      <td>1.0</td>\n",
       "      <td>-1.36049</td>\n",
       "      <td>3.0</td>\n",
       "      <td>NaN</td>\n",
       "      <td>1.0</td>\n",
       "      <td>0.0</td>\n",
       "      <td>0.0</td>\n",
       "      <td>0.0</td>\n",
       "      <td>1.0</td>\n",
       "      <td>0.0</td>\n",
       "      <td>1.126842</td>\n",
       "      <td>real</td>\n",
       "    </tr>\n",
       "    <tr>\n",
       "      <th>4</th>\n",
       "      <td>4</td>\n",
       "      <td>NaN</td>\n",
       "      <td>NaN</td>\n",
       "      <td>2.0</td>\n",
       "      <td>0.0</td>\n",
       "      <td>0.0</td>\n",
       "      <td>0.0</td>\n",
       "      <td>NaN</td>\n",
       "      <td>0.0</td>\n",
       "      <td>0.0</td>\n",
       "      <td>NaN</td>\n",
       "      <td>0.198014</td>\n",
       "      <td>fake</td>\n",
       "    </tr>\n",
       "  </tbody>\n",
       "</table>\n",
       "</div>"
      ],
      "text/plain": [
       "   Id  Lession  Genetic Propensity  Skin X test  Skin color  Small size  \\\n",
       "0   0      1.0            -1.27713          4.0         NaN         0.0   \n",
       "1   1      NaN            -1.84207          3.0         0.0         1.0   \n",
       "2   2      NaN            -1.82290          3.0         NaN         0.0   \n",
       "3   3      1.0            -1.36049          3.0         NaN         1.0   \n",
       "4   4      NaN                 NaN          2.0         0.0         0.0   \n",
       "\n",
       "   Mid size  Large size  Mid  Small  Large  Doughnuts consumption Fake/Real  \n",
       "0       NaN         0.0  1.0    NaN    NaN               1.234125      real  \n",
       "1       0.0         0.0  0.0    1.0    NaN               1.216756      real  \n",
       "2       NaN         NaN  1.0    0.0    NaN               1.264342      real  \n",
       "3       0.0         0.0  0.0    1.0    0.0               1.126842      real  \n",
       "4       0.0         NaN  0.0    0.0    NaN               0.198014      fake  "
      ]
     },
     "execution_count": 24,
     "metadata": {},
     "output_type": "execute_result"
    }
   ],
   "source": [
    "df.head()"
   ]
  },
  {
   "cell_type": "code",
   "execution_count": 25,
   "id": "a1223531-1dd2-4a1b-9352-445599b7b363",
   "metadata": {},
   "outputs": [
    {
     "ename": "SyntaxError",
     "evalue": "invalid syntax (6459930.py, line 1)",
     "output_type": "error",
     "traceback": [
      "\u001b[0;36m  Cell \u001b[0;32mIn[25], line 1\u001b[0;36m\u001b[0m\n\u001b[0;31m    To find Missing Data\u001b[0m\n\u001b[0m       ^\u001b[0m\n\u001b[0;31mSyntaxError\u001b[0m\u001b[0;31m:\u001b[0m invalid syntax\n"
     ]
    }
   ],
   "source": [
    "To find Missing Data"
   ]
  },
  {
   "cell_type": "code",
   "execution_count": 27,
   "id": "095d72d0-00c6-4daf-89d9-b8621ad6ac1d",
   "metadata": {},
   "outputs": [
    {
     "data": {
      "image/png": "[encoded data removed]",
      "text/plain": [
       "<Figure size 640x480 with 2 Axes>"
      ]
     },
     "metadata": {},
     "output_type": "display_data"
    }
   ],
   "source": [
    "sns.heatmap(df.isnull(),yticklabels=False,cmap='viridis')\n",
    "plt.show()"
   ]
  },
  {
   "cell_type": "code",
   "execution_count": 44,
   "id": "98be21a3-abca-4dee-843e-299e9554bc88",
   "metadata": {},
   "outputs": [
    {
     "name": "stdout",
     "output_type": "stream",
     "text": [
      "\n",
      "--- Data Shape ---\n",
      "Rows: 597, Columns: 13\n",
      "\n",
      "--- Columns & Data Types ---\n",
      "Column: Id, dtype: int64\n",
      "Column: Lession, dtype: float64\n",
      "Column: Genetic Propensity, dtype: float64\n",
      "Column: Skin X test, dtype: float64\n",
      "Column: Skin color, dtype: float64\n",
      "Column: Small size, dtype: float64\n",
      "Column: Mid size, dtype: float64\n",
      "Column: Large size, dtype: float64\n",
      "Column: Mid, dtype: float64\n",
      "Column: Small, dtype: float64\n",
      "Column: Large, dtype: float64\n",
      "Column: Doughnuts consumption, dtype: float64\n",
      "Column: Fake/Real, dtype: object\n",
      "\n",
      "--- Info Summary ---\n",
      "<class 'pandas.core.frame.DataFrame'>\n",
      "RangeIndex: 597 entries, 0 to 596\n",
      "Data columns (total 13 columns):\n",
      " #   Column                 Non-Null Count  Dtype  \n",
      "---  ------                 --------------  -----  \n",
      " 0   Id                     597 non-null    int64  \n",
      " 1   Lession                407 non-null    float64\n",
      " 2   Genetic Propensity     403 non-null    float64\n",
      " 3   Skin X test            422 non-null    float64\n",
      " 4   Skin color             420 non-null    float64\n",
      " 5   Small size             413 non-null    float64\n",
      " 6   Mid size               424 non-null    float64\n",
      " 7   Large size             417 non-null    float64\n",
      " 8   Mid                    422 non-null    float64\n",
      " 9   Small                  413 non-null    float64\n",
      " 10  Large                  407 non-null    float64\n",
      " 11  Doughnuts consumption  597 non-null    float64\n",
      " 12  Fake/Real              597 non-null    object \n",
      "dtypes: float64(11), int64(1), object(1)\n",
      "memory usage: 60.8+ KB\n",
      "None\n"
     ]
    }
   ],
   "source": [
    "print(\"\\n--- Data Shape ---\")\n",
    "print(f\"Rows: {df.shape[0]}, Columns: {df.shape[1]}\")\n",
    "\n",
    "print(\"\\n--- Columns & Data Types ---\")\n",
    "for column in df.columns:\n",
    "    print(f\"Column: {column}, dtype: {df[column].dtype}\")\n",
    "print(\"\\n--- Info Summary ---\")\n",
    "print(df.info())"
   ]
  },
  {
   "cell_type": "code",
   "execution_count": 45,
   "id": "b5f336fb-62f1-476d-9cf8-2d6df5838081",
   "metadata": {},
   "outputs": [
    {
     "name": "stdout",
     "output_type": "stream",
     "text": [
      "\n",
      "--- Numeric Summary ---\n",
      "               Id     Lession  Genetic Propensity  Skin X test  Skin color  \\\n",
      "count  597.000000  407.000000          403.000000   422.000000  420.000000   \n",
      "mean   298.000000    0.115479           -1.883260     3.106635    0.390476   \n",
      "std    172.483333    0.319993            0.576935     0.783138    0.488439   \n",
      "min      0.000000    0.000000           -3.420110     1.000000    0.000000   \n",
      "25%    149.000000    0.000000           -2.164220     3.000000    0.000000   \n",
      "50%    298.000000    0.000000           -2.164220     3.000000    0.000000   \n",
      "75%    447.000000    0.000000           -1.519920     4.000000    1.000000   \n",
      "max    596.000000    1.000000            0.349500     4.000000    1.000000   \n",
      "\n",
      "       Small size    Mid size  Large size         Mid       Small       Large  \\\n",
      "count  413.000000  424.000000  417.000000  422.000000  413.000000  407.000000   \n",
      "mean     0.322034    0.127358    0.196643    0.251185    0.336562    0.385749   \n",
      "std      0.467823    0.333768    0.397937    0.434209    0.473107    0.487371   \n",
      "min      0.000000    0.000000    0.000000    0.000000    0.000000    0.000000   \n",
      "25%      0.000000    0.000000    0.000000    0.000000    0.000000    0.000000   \n",
      "50%      0.000000    0.000000    0.000000    0.000000    0.000000    0.000000   \n",
      "75%      1.000000    0.000000    0.000000    0.750000    1.000000    1.000000   \n",
      "max      1.000000    1.000000    1.000000    1.000000    1.000000    1.000000   \n",
      "\n",
      "       Doughnuts consumption  \n",
      "count             597.000000  \n",
      "mean                0.573894  \n",
      "std                 0.498375  \n",
      "min                 0.000381  \n",
      "25%                 0.139264  \n",
      "50%                 0.261398  \n",
      "75%                 1.115598  \n",
      "max                 1.298831  \n",
      "\n",
      "--- Categorical Summary ---\n",
      "       Fake/Real\n",
      "count        597\n",
      "unique         2\n",
      "top         fake\n",
      "freq         344\n"
     ]
    }
   ],
   "source": [
    "print(\"\\n--- Numeric Summary ---\")\n",
    "print(df.describe())\n",
    "\n",
    "print(\"\\n--- Categorical Summary ---\")\n",
    "print(df.describe(include='object'))"
   ]
  },
  {
   "cell_type": "code",
   "execution_count": 48,
   "id": "2650602d-bb46-4f8f-b721-64d88ae2c7e6",
   "metadata": {},
   "outputs": [
    {
     "name": "stdout",
     "output_type": "stream",
     "text": [
      "--- Correlation with Doughnuts consumption ---\n",
      "Doughnuts consumption    1.00\n",
      "Large size               0.38\n",
      "Genetic Propensity       0.30\n",
      "Mid size                 0.27\n",
      "Small size               0.23\n",
      "Lession                  0.22\n",
      "Small                    0.18\n",
      "Skin X test              0.18\n",
      "Skin color               0.16\n",
      "Id                       0.02\n",
      "Mid                     -0.04\n",
      "Large                   -0.13\n",
      "Name: Doughnuts consumption, dtype: float64\n"
     ]
    }
   ],
   "source": [
    "# ===  Calculating the correlation with doughnut consumption ===\n",
    "corr = df.corr(numeric_only=True)['Doughnuts consumption'].sort_values(ascending=False)\n",
    "corr_rounded = corr.round(2)\n",
    "print(\"--- Correlation with Doughnuts consumption ---\")\n",
    "print(corr_rounded)"
   ]
  },
  {
   "cell_type": "code",
   "execution_count": 29,
   "id": "ee7c1729-5700-4b93-a050-4a07410840b5",
   "metadata": {},
   "outputs": [],
   "source": [
    "# === 4. Set the relevance threshold ===\n",
    "corr_threshold = 0.3   # 可调整：越高表示只对强相关变量做回归插补"
   ]
  },
  {
   "cell_type": "code",
   "execution_count": 30,
   "id": "76d0374f-3230-4c13-bfa0-57c20b85c1e7",
   "metadata": {},
   "outputs": [],
   "source": [
    "df1 = df.copy()"
   ]
  },
  {
   "cell_type": "code",
   "execution_count": 39,
   "id": "4c8945b0-94a9-46cb-b50c-2a2d014a1c13",
   "metadata": {},
   "outputs": [],
   "source": [
    "from sklearn.linear_model import LogisticRegression\n",
    "from sklearn.model_selection import train_test_split\n",
    "import numpy as np\n",
    "import pandas as pd"
   ]
  },
  {
   "cell_type": "code",
   "execution_count": 57,
   "id": "7a476c03-baf2-48af-b1ac-261f7c99fb62",
   "metadata": {},
   "outputs": [],
   "source": [
    "def impute_both_columns(cols):\n",
    "    genetic_prop, large_size, doughnuts = cols[0], cols[1], cols[2]\n",
    "    \n",
    "    #if Genetic Propensity missing\n",
    "    if pd.isnull(genetic_prop):\n",
    "        # Based Doughnuts consumption \n",
    "        if doughnuts < df['Doughnuts consumption'].median():\n",
    "            return df[df['Doughnuts consumption'] < df['Doughnuts consumption'].median()]['Genetic Propensity'].median()\n",
    "        else:\n",
    "            return df[df['Doughnuts consumption'] >= df['Doughnuts consumption'].median()]['Genetic Propensity'].median()\n",
    "    else:\n",
    "        return genetic_prop\n",
    "\n",
    "    #if Large size missing\n",
    "    if pd.isnull(large_size):\n",
    "        # Based Doughnuts consumption \n",
    "        if doughnuts < df['Doughnuts consumption'].median():\n",
    "            return df[df['Doughnuts consumption'] < df['Doughnuts consumption'].median()]['Large size'].median()\n",
    "        else:\n",
    "            return df[df['Doughnuts consumption'] >= df['Doughnuts consumption'].median()]['Large size'].median()\n",
    "    else:\n",
    "        return large_size\n"
   ]
  },
  {
   "cell_type": "code",
   "execution_count": 58,
   "id": "8699b656-7e60-4df9-aa82-fe4d9897126d",
   "metadata": {},
   "outputs": [],
   "source": [
    "df['Genetic Propensity'] = df[['Genetic Propensity', 'Doughnuts consumption']].apply(impute_genetic_propensity, axis=1)\n",
    "df['Large size'] = df[['Large size', 'Doughnuts consumption']].apply(impute_large_size, axis=1)"
   ]
  },
  {
   "cell_type": "code",
   "execution_count": 59,
   "id": "fd0305fe-a0ac-4bff-9da4-09a5f1c1f265",
   "metadata": {},
   "outputs": [
    {
     "data": {
      "image/png": "[encoded data removed]",
      "text/plain": [
       "<Figure size 640x480 with 1 Axes>"
      ]
     },
     "metadata": {},
     "output_type": "display_data"
    },
    {
     "name": "stdout",
     "output_type": "stream",
     "text": [
      "--- Missing Values After ---\n",
      "Id                         0\n",
      "Lession                  190\n",
      "Genetic Propensity         0\n",
      "Skin X test              175\n",
      "Skin color               177\n",
      "Small size               184\n",
      "Mid size                 173\n",
      "Large size                 0\n",
      "Mid                      175\n",
      "Small                    184\n",
      "Large                    190\n",
      "Doughnuts consumption      0\n",
      "Fake/Real                  0\n",
      "dtype: int64\n"
     ]
    }
   ],
   "source": [
    "sns.heatmap(df.isnull(), yticklabels=False, cbar=False, cmap='viridis')\n",
    "plt.title(\"Missing Data After Imputation\")\n",
    "plt.show()\n",
    "\n",
    "print(\"--- Missing Values After ---\")\n",
    "print(df.isnull().sum())\n"
   ]
  },
  {
   "cell_type": "code",
   "execution_count": null,
   "id": "d7a48ef2-926d-4b22-9c04-2a8f93d03aac",
   "metadata": {},
   "outputs": [],
   "source": []
  }
 ],
 "metadata": {
  "kernelspec": {
   "display_name": "anaconda-panel-2023.05-py310",
   "language": "python",
   "name": "conda-env-anaconda-panel-2023.05-py310-py"
  },
  "language_info": {
   "codemirror_mode": {
    "name": "ipython",
    "version": 3
   },
   "file_extension": ".py",
   "mimetype": "text/x-python",
   "name": "python",
   "nbconvert_exporter": "python",
   "pygments_lexer": "ipython3",
   "version": "3.11.5"
  }
 },
 "nbformat": 4,
 "nbformat_minor": 5
}
