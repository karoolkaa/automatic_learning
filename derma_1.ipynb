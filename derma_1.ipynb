{
 "cells": [
  {
   "cell_type": "code",
   "execution_count": 20,
   "id": "c37a47b7",
   "metadata": {},
   "outputs": [],
   "source": [
    "import pandas as pd\n",
    "import matplotlib.pyplot as plt\n",
    "import seaborn as sns\n",
    "from sklearn.preprocessing import OneHotEncoder, StandardScaler\n",
    "from sklearn.compose import ColumnTransformer\n",
    "from sklearn.pipeline import make_pipeline\n",
    "from sklearn.cluster import KMeans\n",
    "from sklearn.metrics import silhouette_score\n",
    "from sklearn.decomposition import PCA\n",
    "import time\n",
    "import os\n",
    "import numpy as np"
   ]
  },
  {
   "cell_type": "markdown",
   "id": "35f563fb",
   "metadata": {},
   "source": [
    "Dataset Overview"
   ]
  },
  {
   "cell_type": "code",
   "execution_count": 2,
   "id": "2d0c2599",
   "metadata": {},
   "outputs": [],
   "source": [
    "data = pd.read_csv(r\"C:\\Users\\karol\\OneDrive\\Dokumenty\\Barcelona\\automatic_learning\\train_A_derma.csv\", header=None)"
   ]
  },
  {
   "cell_type": "code",
   "execution_count": 3,
   "id": "72089eda",
   "metadata": {},
   "outputs": [
    {
     "data": {
      "text/html": [
       "<div>\n",
       "<style scoped>\n",
       "    .dataframe tbody tr th:only-of-type {\n",
       "        vertical-align: middle;\n",
       "    }\n",
       "\n",
       "    .dataframe tbody tr th {\n",
       "        vertical-align: top;\n",
       "    }\n",
       "\n",
       "    .dataframe thead th {\n",
       "        text-align: right;\n",
       "    }\n",
       "</style>\n",
       "<table border=\"1\" class=\"dataframe\">\n",
       "  <thead>\n",
       "    <tr style=\"text-align: right;\">\n",
       "      <th></th>\n",
       "      <th>0</th>\n",
       "      <th>1</th>\n",
       "      <th>2</th>\n",
       "      <th>3</th>\n",
       "      <th>4</th>\n",
       "      <th>5</th>\n",
       "      <th>6</th>\n",
       "      <th>7</th>\n",
       "      <th>8</th>\n",
       "      <th>9</th>\n",
       "      <th>10</th>\n",
       "      <th>11</th>\n",
       "      <th>12</th>\n",
       "    </tr>\n",
       "  </thead>\n",
       "  <tbody>\n",
       "    <tr>\n",
       "      <th>0</th>\n",
       "      <td>Id</td>\n",
       "      <td>Lession</td>\n",
       "      <td>Genetic Propensity</td>\n",
       "      <td>Skin X test</td>\n",
       "      <td>Skin color</td>\n",
       "      <td>Small size</td>\n",
       "      <td>Mid size</td>\n",
       "      <td>Large size</td>\n",
       "      <td>Mid</td>\n",
       "      <td>Small</td>\n",
       "      <td>Large</td>\n",
       "      <td>Doughnuts consumption</td>\n",
       "      <td>Fake/Real</td>\n",
       "    </tr>\n",
       "    <tr>\n",
       "      <th>1</th>\n",
       "      <td>0</td>\n",
       "      <td>1.0</td>\n",
       "      <td>-1.2771300077438354</td>\n",
       "      <td>4.0</td>\n",
       "      <td>NaN</td>\n",
       "      <td>0.0</td>\n",
       "      <td>NaN</td>\n",
       "      <td>0.0</td>\n",
       "      <td>1.0</td>\n",
       "      <td>NaN</td>\n",
       "      <td>NaN</td>\n",
       "      <td>1.2341247768940422</td>\n",
       "      <td>real</td>\n",
       "    </tr>\n",
       "    <tr>\n",
       "      <th>2</th>\n",
       "      <td>1</td>\n",
       "      <td>NaN</td>\n",
       "      <td>-1.8420699834823608</td>\n",
       "      <td>3.0</td>\n",
       "      <td>0.0</td>\n",
       "      <td>1.0</td>\n",
       "      <td>0.0</td>\n",
       "      <td>0.0</td>\n",
       "      <td>0.0</td>\n",
       "      <td>1.0</td>\n",
       "      <td>NaN</td>\n",
       "      <td>1.216755888782292</td>\n",
       "      <td>real</td>\n",
       "    </tr>\n",
       "    <tr>\n",
       "      <th>3</th>\n",
       "      <td>2</td>\n",
       "      <td>NaN</td>\n",
       "      <td>-1.8229000568389893</td>\n",
       "      <td>3.0</td>\n",
       "      <td>NaN</td>\n",
       "      <td>0.0</td>\n",
       "      <td>NaN</td>\n",
       "      <td>NaN</td>\n",
       "      <td>1.0</td>\n",
       "      <td>0.0</td>\n",
       "      <td>NaN</td>\n",
       "      <td>1.2643416905006748</td>\n",
       "      <td>real</td>\n",
       "    </tr>\n",
       "    <tr>\n",
       "      <th>4</th>\n",
       "      <td>3</td>\n",
       "      <td>1.0</td>\n",
       "      <td>-1.3604899644851685</td>\n",
       "      <td>3.0</td>\n",
       "      <td>NaN</td>\n",
       "      <td>1.0</td>\n",
       "      <td>0.0</td>\n",
       "      <td>0.0</td>\n",
       "      <td>0.0</td>\n",
       "      <td>1.0</td>\n",
       "      <td>0.0</td>\n",
       "      <td>1.1268424184448358</td>\n",
       "      <td>real</td>\n",
       "    </tr>\n",
       "  </tbody>\n",
       "</table>\n",
       "</div>"
      ],
      "text/plain": [
       "   0        1                    2            3           4           5   \\\n",
       "0  Id  Lession   Genetic Propensity  Skin X test  Skin color  Small size   \n",
       "1   0      1.0  -1.2771300077438354          4.0         NaN         0.0   \n",
       "2   1      NaN  -1.8420699834823608          3.0         0.0         1.0   \n",
       "3   2      NaN  -1.8229000568389893          3.0         NaN         0.0   \n",
       "4   3      1.0  -1.3604899644851685          3.0         NaN         1.0   \n",
       "\n",
       "         6           7    8      9      10                     11         12  \n",
       "0  Mid size  Large size  Mid  Small  Large  Doughnuts consumption  Fake/Real  \n",
       "1       NaN         0.0  1.0    NaN    NaN     1.2341247768940422       real  \n",
       "2       0.0         0.0  0.0    1.0    NaN      1.216755888782292       real  \n",
       "3       NaN         NaN  1.0    0.0    NaN     1.2643416905006748       real  \n",
       "4       0.0         0.0  0.0    1.0    0.0     1.1268424184448358       real  "
      ]
     },
     "execution_count": 3,
     "metadata": {},
     "output_type": "execute_result"
    }
   ],
   "source": [
    " data.head()"
   ]
  },
  {
   "cell_type": "code",
   "execution_count": 4,
   "id": "1c3204e0",
   "metadata": {},
   "outputs": [
    {
     "data": {
      "text/plain": [
       "(598, 13)"
      ]
     },
     "execution_count": 4,
     "metadata": {},
     "output_type": "execute_result"
    }
   ],
   "source": [
    " data.shape"
   ]
  },
  {
   "cell_type": "markdown",
   "id": "8747ceb6",
   "metadata": {},
   "source": [
    "Ground truth"
   ]
  },
  {
   "cell_type": "code",
   "execution_count": 5,
   "id": "d51197ae",
   "metadata": {},
   "outputs": [],
   "source": [
    "labels = data[12]"
   ]
  },
  {
   "cell_type": "code",
   "execution_count": 6,
   "id": "0f5f973c",
   "metadata": {},
   "outputs": [
    {
     "data": {
      "text/plain": [
       "array(['Fake/Real', 'real', 'fake'], dtype=object)"
      ]
     },
     "execution_count": 6,
     "metadata": {},
     "output_type": "execute_result"
    }
   ],
   "source": [
    "labels.unique()"
   ]
  },
  {
   "cell_type": "markdown",
   "id": "5a7fb092",
   "metadata": {},
   "source": [
    "Drop the Ground Truth Column from the Dataset"
   ]
  },
  {
   "cell_type": "code",
   "execution_count": 7,
   "id": "76434c67",
   "metadata": {},
   "outputs": [],
   "source": [
    "data_ = data.drop(12, axis=1)"
   ]
  },
  {
   "cell_type": "code",
   "execution_count": 8,
   "id": "ff0b6d61",
   "metadata": {},
   "outputs": [
    {
     "data": {
      "text/html": [
       "<div>\n",
       "<style scoped>\n",
       "    .dataframe tbody tr th:only-of-type {\n",
       "        vertical-align: middle;\n",
       "    }\n",
       "\n",
       "    .dataframe tbody tr th {\n",
       "        vertical-align: top;\n",
       "    }\n",
       "\n",
       "    .dataframe thead th {\n",
       "        text-align: right;\n",
       "    }\n",
       "</style>\n",
       "<table border=\"1\" class=\"dataframe\">\n",
       "  <thead>\n",
       "    <tr style=\"text-align: right;\">\n",
       "      <th></th>\n",
       "      <th>0</th>\n",
       "      <th>1</th>\n",
       "      <th>2</th>\n",
       "      <th>3</th>\n",
       "      <th>4</th>\n",
       "      <th>5</th>\n",
       "      <th>6</th>\n",
       "      <th>7</th>\n",
       "      <th>8</th>\n",
       "      <th>9</th>\n",
       "      <th>10</th>\n",
       "      <th>11</th>\n",
       "    </tr>\n",
       "  </thead>\n",
       "  <tbody>\n",
       "    <tr>\n",
       "      <th>0</th>\n",
       "      <td>Id</td>\n",
       "      <td>Lession</td>\n",
       "      <td>Genetic Propensity</td>\n",
       "      <td>Skin X test</td>\n",
       "      <td>Skin color</td>\n",
       "      <td>Small size</td>\n",
       "      <td>Mid size</td>\n",
       "      <td>Large size</td>\n",
       "      <td>Mid</td>\n",
       "      <td>Small</td>\n",
       "      <td>Large</td>\n",
       "      <td>Doughnuts consumption</td>\n",
       "    </tr>\n",
       "    <tr>\n",
       "      <th>1</th>\n",
       "      <td>0</td>\n",
       "      <td>1.0</td>\n",
       "      <td>-1.2771300077438354</td>\n",
       "      <td>4.0</td>\n",
       "      <td>NaN</td>\n",
       "      <td>0.0</td>\n",
       "      <td>NaN</td>\n",
       "      <td>0.0</td>\n",
       "      <td>1.0</td>\n",
       "      <td>NaN</td>\n",
       "      <td>NaN</td>\n",
       "      <td>1.2341247768940422</td>\n",
       "    </tr>\n",
       "    <tr>\n",
       "      <th>2</th>\n",
       "      <td>1</td>\n",
       "      <td>NaN</td>\n",
       "      <td>-1.8420699834823608</td>\n",
       "      <td>3.0</td>\n",
       "      <td>0.0</td>\n",
       "      <td>1.0</td>\n",
       "      <td>0.0</td>\n",
       "      <td>0.0</td>\n",
       "      <td>0.0</td>\n",
       "      <td>1.0</td>\n",
       "      <td>NaN</td>\n",
       "      <td>1.216755888782292</td>\n",
       "    </tr>\n",
       "    <tr>\n",
       "      <th>3</th>\n",
       "      <td>2</td>\n",
       "      <td>NaN</td>\n",
       "      <td>-1.8229000568389893</td>\n",
       "      <td>3.0</td>\n",
       "      <td>NaN</td>\n",
       "      <td>0.0</td>\n",
       "      <td>NaN</td>\n",
       "      <td>NaN</td>\n",
       "      <td>1.0</td>\n",
       "      <td>0.0</td>\n",
       "      <td>NaN</td>\n",
       "      <td>1.2643416905006748</td>\n",
       "    </tr>\n",
       "    <tr>\n",
       "      <th>4</th>\n",
       "      <td>3</td>\n",
       "      <td>1.0</td>\n",
       "      <td>-1.3604899644851685</td>\n",
       "      <td>3.0</td>\n",
       "      <td>NaN</td>\n",
       "      <td>1.0</td>\n",
       "      <td>0.0</td>\n",
       "      <td>0.0</td>\n",
       "      <td>0.0</td>\n",
       "      <td>1.0</td>\n",
       "      <td>0.0</td>\n",
       "      <td>1.1268424184448358</td>\n",
       "    </tr>\n",
       "  </tbody>\n",
       "</table>\n",
       "</div>"
      ],
      "text/plain": [
       "   0        1                    2            3           4           5   \\\n",
       "0  Id  Lession   Genetic Propensity  Skin X test  Skin color  Small size   \n",
       "1   0      1.0  -1.2771300077438354          4.0         NaN         0.0   \n",
       "2   1      NaN  -1.8420699834823608          3.0         0.0         1.0   \n",
       "3   2      NaN  -1.8229000568389893          3.0         NaN         0.0   \n",
       "4   3      1.0  -1.3604899644851685          3.0         NaN         1.0   \n",
       "\n",
       "         6           7    8      9      10                     11  \n",
       "0  Mid size  Large size  Mid  Small  Large  Doughnuts consumption  \n",
       "1       NaN         0.0  1.0    NaN    NaN     1.2341247768940422  \n",
       "2       0.0         0.0  0.0    1.0    NaN      1.216755888782292  \n",
       "3       NaN         NaN  1.0    0.0    NaN     1.2643416905006748  \n",
       "4       0.0         0.0  0.0    1.0    0.0     1.1268424184448358  "
      ]
     },
     "execution_count": 8,
     "metadata": {},
     "output_type": "execute_result"
    }
   ],
   "source": [
    "data_.head()"
   ]
  },
  {
   "cell_type": "code",
   "execution_count": 11,
   "id": "e75a5348",
   "metadata": {},
   "outputs": [],
   "source": [
    "ids = data_[0]"
   ]
  },
  {
   "cell_type": "code",
   "execution_count": 16,
   "id": "61fa1772",
   "metadata": {},
   "outputs": [],
   "source": [
    "data1 = data_.drop(0, axis = 1)\n"
   ]
  },
  {
   "cell_type": "code",
   "execution_count": 18,
   "id": "f7fcdd02",
   "metadata": {},
   "outputs": [
    {
     "data": {
      "text/html": [
       "<div>\n",
       "<style scoped>\n",
       "    .dataframe tbody tr th:only-of-type {\n",
       "        vertical-align: middle;\n",
       "    }\n",
       "\n",
       "    .dataframe tbody tr th {\n",
       "        vertical-align: top;\n",
       "    }\n",
       "\n",
       "    .dataframe thead th {\n",
       "        text-align: right;\n",
       "    }\n",
       "</style>\n",
       "<table border=\"1\" class=\"dataframe\">\n",
       "  <thead>\n",
       "    <tr style=\"text-align: right;\">\n",
       "      <th></th>\n",
       "      <th>1</th>\n",
       "      <th>2</th>\n",
       "      <th>3</th>\n",
       "      <th>4</th>\n",
       "      <th>5</th>\n",
       "      <th>6</th>\n",
       "      <th>7</th>\n",
       "      <th>8</th>\n",
       "      <th>9</th>\n",
       "      <th>10</th>\n",
       "      <th>11</th>\n",
       "    </tr>\n",
       "  </thead>\n",
       "  <tbody>\n",
       "    <tr>\n",
       "      <th>0</th>\n",
       "      <td>Lession</td>\n",
       "      <td>Genetic Propensity</td>\n",
       "      <td>Skin X test</td>\n",
       "      <td>Skin color</td>\n",
       "      <td>Small size</td>\n",
       "      <td>Mid size</td>\n",
       "      <td>Large size</td>\n",
       "      <td>Mid</td>\n",
       "      <td>Small</td>\n",
       "      <td>Large</td>\n",
       "      <td>Doughnuts consumption</td>\n",
       "    </tr>\n",
       "    <tr>\n",
       "      <th>1</th>\n",
       "      <td>1.0</td>\n",
       "      <td>-1.2771300077438354</td>\n",
       "      <td>4.0</td>\n",
       "      <td>NaN</td>\n",
       "      <td>0.0</td>\n",
       "      <td>NaN</td>\n",
       "      <td>0.0</td>\n",
       "      <td>1.0</td>\n",
       "      <td>NaN</td>\n",
       "      <td>NaN</td>\n",
       "      <td>1.2341247768940422</td>\n",
       "    </tr>\n",
       "    <tr>\n",
       "      <th>2</th>\n",
       "      <td>NaN</td>\n",
       "      <td>-1.8420699834823608</td>\n",
       "      <td>3.0</td>\n",
       "      <td>0.0</td>\n",
       "      <td>1.0</td>\n",
       "      <td>0.0</td>\n",
       "      <td>0.0</td>\n",
       "      <td>0.0</td>\n",
       "      <td>1.0</td>\n",
       "      <td>NaN</td>\n",
       "      <td>1.216755888782292</td>\n",
       "    </tr>\n",
       "    <tr>\n",
       "      <th>3</th>\n",
       "      <td>NaN</td>\n",
       "      <td>-1.8229000568389893</td>\n",
       "      <td>3.0</td>\n",
       "      <td>NaN</td>\n",
       "      <td>0.0</td>\n",
       "      <td>NaN</td>\n",
       "      <td>NaN</td>\n",
       "      <td>1.0</td>\n",
       "      <td>0.0</td>\n",
       "      <td>NaN</td>\n",
       "      <td>1.2643416905006748</td>\n",
       "    </tr>\n",
       "    <tr>\n",
       "      <th>4</th>\n",
       "      <td>1.0</td>\n",
       "      <td>-1.3604899644851685</td>\n",
       "      <td>3.0</td>\n",
       "      <td>NaN</td>\n",
       "      <td>1.0</td>\n",
       "      <td>0.0</td>\n",
       "      <td>0.0</td>\n",
       "      <td>0.0</td>\n",
       "      <td>1.0</td>\n",
       "      <td>0.0</td>\n",
       "      <td>1.1268424184448358</td>\n",
       "    </tr>\n",
       "  </tbody>\n",
       "</table>\n",
       "</div>"
      ],
      "text/plain": [
       "        1                    2            3           4           5   \\\n",
       "0  Lession   Genetic Propensity  Skin X test  Skin color  Small size   \n",
       "1      1.0  -1.2771300077438354          4.0         NaN         0.0   \n",
       "2      NaN  -1.8420699834823608          3.0         0.0         1.0   \n",
       "3      NaN  -1.8229000568389893          3.0         NaN         0.0   \n",
       "4      1.0  -1.3604899644851685          3.0         NaN         1.0   \n",
       "\n",
       "         6           7    8      9      10                     11  \n",
       "0  Mid size  Large size  Mid  Small  Large  Doughnuts consumption  \n",
       "1       NaN         0.0  1.0    NaN    NaN     1.2341247768940422  \n",
       "2       0.0         0.0  0.0    1.0    NaN      1.216755888782292  \n",
       "3       NaN         NaN  1.0    0.0    NaN     1.2643416905006748  \n",
       "4       0.0         0.0  0.0    1.0    0.0     1.1268424184448358  "
      ]
     },
     "execution_count": 18,
     "metadata": {},
     "output_type": "execute_result"
    }
   ],
   "source": [
    "data1.head()"
   ]
  },
  {
   "cell_type": "code",
   "execution_count": 24,
   "id": "7e6f153e",
   "metadata": {},
   "outputs": [
    {
     "name": "stderr",
     "output_type": "stream",
     "text": [
      "C:\\Users\\karol\\AppData\\Local\\Temp\\ipykernel_20852\\3208893248.py:7: UserWarning: FixedFormatter should only be used together with FixedLocator\n",
      "  ax.set_xticklabels(nan_counts.index.astype(str), rotation=90)\n"
     ]
    },
    {
     "data": {
      "image/png": "[encoded data removed]",
      "text/plain": [
       "<Figure size 1000x400 with 1 Axes>"
      ]
     },
     "metadata": {},
     "output_type": "display_data"
    }
   ],
   "source": [
    "numeric = data1.apply(pd.to_numeric, errors='coerce')  # teksty -> NaN\n",
    "nan_counts = numeric.isna().sum()\n",
    "\n",
    "fig, ax = plt.subplots(figsize=(10,4))\n",
    "ax.bar(nan_counts.index.astype(str), nan_counts.values)\n",
    "ax.set_ylabel('Missing values')\n",
    "ax.set_xticklabels(nan_counts.index.astype(str), rotation=90)\n",
    "plt.tight_layout()\n",
    "plt.show()\n"
   ]
  },
  {
   "cell_type": "code",
   "execution_count": 27,
   "id": "0a13a335",
   "metadata": {},
   "outputs": [
    {
     "name": "stdout",
     "output_type": "stream",
     "text": [
      "2     0.324415\n",
      "1     0.317726\n",
      "10    0.317726\n",
      "5     0.307692\n",
      "9     0.307692\n",
      "7     0.301003\n",
      "4     0.295987\n",
      "3     0.292642\n",
      "8     0.292642\n",
      "6     0.289298\n",
      "11    0.000000\n",
      "dtype: float64\n",
      "2     194\n",
      "1     190\n",
      "10    190\n",
      "5     184\n",
      "9     184\n",
      "7     180\n",
      "4     177\n",
      "3     175\n",
      "8     175\n",
      "6     173\n",
      "11      0\n",
      "dtype: int64\n",
      "rows: 598\n",
      "rows without any NA: 22\n"
     ]
    }
   ],
   "source": [
    "df = data1.copy()\n",
    "\n",
    "missing_pct = df.isna().mean().sort_values(ascending=False)\n",
    "missing_count = df.isna().sum().sort_values(ascending=False)\n",
    "print(missing_pct)\n",
    "print(missing_count)\n",
    "print(\"rows:\", len(df))\n",
    "print(\"rows without any NA:\", df.dropna().shape[0])"
   ]
  },
  {
   "cell_type": "code",
   "execution_count": 31,
   "id": "454b0204",
   "metadata": {},
   "outputs": [
    {
     "ename": "TypeError",
     "evalue": "unsupported operand type(s) for +: 'int' and 'str'",
     "output_type": "error",
     "traceback": [
      "\u001b[1;31m---------------------------------------------------------------------------\u001b[0m",
      "\u001b[1;31mTypeError\u001b[0m                                 Traceback (most recent call last)",
      "Cell \u001b[1;32mIn[31], line 18\u001b[0m\n\u001b[0;32m     16\u001b[0m \u001b[38;5;66;03m# 1) create missing flags\u001b[39;00m\n\u001b[0;32m     17\u001b[0m \u001b[38;5;28;01mfor\u001b[39;00m c \u001b[38;5;129;01min\u001b[39;00m feature_cols:\n\u001b[1;32m---> 18\u001b[0m     df[c \u001b[38;5;241m+\u001b[39m \u001b[38;5;124m'\u001b[39m\u001b[38;5;124m_was_missing\u001b[39m\u001b[38;5;124m'\u001b[39m] \u001b[38;5;241m=\u001b[39m df[c]\u001b[38;5;241m.\u001b[39misna()\u001b[38;5;241m.\u001b[39mastype(\u001b[38;5;28mint\u001b[39m)\n\u001b[0;32m     20\u001b[0m \u001b[38;5;66;03m# 2) decide which columns to impute with IterativeImputer\u001b[39;00m\n\u001b[0;32m     21\u001b[0m \u001b[38;5;66;03m#    separate numeric and categorical for safe encoding\u001b[39;00m\n\u001b[0;32m     22\u001b[0m num_cols \u001b[38;5;241m=\u001b[39m df[feature_cols]\u001b[38;5;241m.\u001b[39mselect_dtypes(include\u001b[38;5;241m=\u001b[39m[\u001b[38;5;124m'\u001b[39m\u001b[38;5;124mnumber\u001b[39m\u001b[38;5;124m'\u001b[39m])\u001b[38;5;241m.\u001b[39mcolumns\u001b[38;5;241m.\u001b[39mtolist()\n",
      "\u001b[1;31mTypeError\u001b[0m: unsupported operand type(s) for +: 'int' and 'str'"
     ]
    }
   ],
   "source": [
    "# prepare\n",
    "import pandas as pd\n",
    "from sklearn.experimental import enable_iterative_imputer  # required\n",
    "from sklearn.impute import IterativeImputer, SimpleImputer\n",
    "from sklearn.ensemble import RandomForestRegressor\n",
    "from sklearn.preprocessing import OrdinalEncoder\n",
    "\n",
    "df = data1.copy()          # twoje data_trim\n",
    "df = df.reset_index(drop=True)\n",
    "\n",
    "# exclude identifiers and target\n",
    "ID_COL = 'Id'\n",
    "TARGET = 'Fake/Real'\n",
    "feature_cols = [c for c in df.columns if c not in [ID_COL, TARGET]]\n",
    "\n",
    "# 1) create missing flags\n",
    "for c in feature_cols:\n",
    "    df[c + '_was_missing'] = df[c].isna().astype(int)\n",
    "\n",
    "# 2) decide which columns to impute with IterativeImputer\n",
    "#    separate numeric and categorical for safe encoding\n",
    "num_cols = df[feature_cols].select_dtypes(include=['number']).columns.tolist()\n",
    "cat_cols = [c for c in feature_cols if c not in num_cols]\n",
    "\n",
    "# 3) encode categorical columns if any (OrdinalEncoder used for simplicity)\n",
    "if cat_cols:\n",
    "    enc = OrdinalEncoder(handle_unknown='use_encoded_value', unknown_value=-1)\n",
    "    df[cat_cols] = enc.fit_transform(df[cat_cols].astype(object))\n",
    "\n",
    "# 4) choose columns to feed to IterativeImputer (exclude the newly created flags)\n",
    "cols_for_impute = [c for c in num_cols + cat_cols if not c.endswith('_was_missing')]\n",
    "\n",
    "# 5) run IterativeImputer with a tree estimator for nonlinear relations\n",
    "imp = IterativeImputer(estimator=RandomForestRegressor(n_estimators=20, random_state=0),\n",
    "                       max_iter=10, sample_posterior=False, random_state=0)\n",
    "df[cols_for_impute] = imp.fit_transform(df[cols_for_impute])\n",
    "\n",
    "# 6) optional: if you used OrdinalEncoder, inverse transform when needed\n",
    "#    enc.inverse_transform(df[cat_cols])  # only if needed and values valid\n",
    "\n",
    "\n"
   ]
  }
 ],
 "metadata": {
  "kernelspec": {
   "display_name": "Python 3 (ipykernel)",
   "language": "python",
   "name": "python3"
  },
  "language_info": {
   "codemirror_mode": {
    "name": "ipython",
    "version": 3
   },
   "file_extension": ".py",
   "mimetype": "text/x-python",
   "name": "python",
   "nbconvert_exporter": "python",
   "pygments_lexer": "ipython3",
   "version": "3.11.5"
  }
 },
 "nbformat": 4,
 "nbformat_minor": 5
}
